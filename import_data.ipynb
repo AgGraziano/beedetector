{
 "cells": [
  {
   "cell_type": "code",
   "execution_count": 2,
   "id": "94f0889c-d037-48a6-8cbe-390d5164a25d",
   "metadata": {},
   "outputs": [],
   "source": [
    "from urllib import request\n",
    "import pandas as pd"
   ]
  },
  {
   "cell_type": "code",
   "execution_count": 17,
   "id": "7597988a-0100-485f-9e36-6a3ff2728093",
   "metadata": {},
   "outputs": [],
   "source": [
    "df0 = pd.read_csv('observations-334629.csv')\n",
    "df = df0[[\"id\", \"image_url\"]]"
   ]
  },
  {
   "cell_type": "code",
   "execution_count": null,
   "id": "dc2c4408-eda9-4360-aab5-54c683150d56",
   "metadata": {
    "tags": []
   },
   "outputs": [],
   "source": [
    "for observation in df.values:\n",
    "    specimen_id, image_url = observation\n",
    "    request.urlretrieve(image_url, \"data\\\\\" + str(specimen_id) + \".jpg\")"
   ]
  },
  {
   "cell_type": "code",
   "execution_count": 18,
   "id": "1ae663b8",
   "metadata": {},
   "outputs": [
    {
     "name": "stdout",
     "output_type": "stream",
     "text": [
      "Specimen_id: 7296680 Exception:  HTTP Error 403: Forbidden  at  https://static.inaturalist.org/photos/9440753/medium.jpg x https://www.inaturalist.org/observations/7296680\n",
      "Specimen_id: 26978539 Exception:  HTTP Error 403: Forbidden  at  https://static.inaturalist.org/photos/41928074/medium.jpeg x https://www.inaturalist.org/observations/26978539\n",
      "Specimen_id: 40303432 Exception:  HTTP Error 404: Not Found  at  https://inaturalist-open-data.s3.amazonaws.com/photos/64024475/medium.jpg x https://www.inaturalist.org/observations/40303432\n",
      "Specimen_id: 45545019 Exception:  HTTP Error 403: Forbidden  at  https://static.inaturalist.org/photos/72220076/medium.jpeg x https://www.inaturalist.org/observations/45545019\n",
      "Specimen_id: 48683315 Exception:  HTTP Error 403: Forbidden  at  https://static.inaturalist.org/photos/77257181/medium.jpeg x https://www.inaturalist.org/observations/48683315\n",
      "Specimen_id: 50060733 Exception:  HTTP Error 403: Forbidden  at  https://static.inaturalist.org/photos/79486576/medium.jpg x https://www.inaturalist.org/observations/50060733\n",
      "Specimen_id: 53571810 Exception:  HTTP Error 403: Forbidden  at  https://static.inaturalist.org/photos/85208552/medium.jpeg x https://www.inaturalist.org/observations/53571810\n",
      "Specimen_id: 54135014 Exception:  HTTP Error 403: Forbidden  at  https://static.inaturalist.org/photos/86120166/medium.jpg x https://www.inaturalist.org/observations/54135014\n",
      "Specimen_id: 77013943 Exception:  HTTP Error 403: Forbidden  at  https://static.inaturalist.org/photos/125945972/medium.jpg x https://www.inaturalist.org/observations/77013943\n",
      "Specimen_id: 78911775 Exception:  HTTP Error 403: Forbidden  at  https://static.inaturalist.org/photos/129195175/medium.jpeg x https://www.inaturalist.org/observations/78911775\n",
      "Specimen_id: 126078478 Exception:  HTTP Error 404: Not Found  at  https://inaturalist-open-data.s3.amazonaws.com/photos/213880437/medium.jpg x https://www.inaturalist.org/observations/126078478\n",
      "Specimen_id: 161696750 Exception:  HTTP Error 404: Not Found  at  https://inaturalist-open-data.s3.amazonaws.com/photos/279510042/medium.jpg x https://www.inaturalist.org/observations/161696750\n",
      "Specimen_id: 164552866 Exception:  HTTP Error 403: Forbidden  at  https://static.inaturalist.org/photos/284724994/medium.jpeg x https://www.inaturalist.org/observations/164552866\n",
      "Specimen_id: 166002230 Exception:  HTTP Error 403: Forbidden  at  https://static.inaturalist.org/photos/287421622/medium.jpg x https://www.inaturalist.org/observations/166002230\n",
      "\n",
      "Download Summary:\n",
      "Successful downloads: 871\n",
      "Failed downloads: 14\n"
     ]
    }
   ],
   "source": [
    "import time\n",
    "\n",
    "successful_downloads = 0\n",
    "failed_downloads = 0\n",
    "\n",
    "for observation in df0.values:\n",
    "    specimen_id, x, image_url = observation\n",
    "    file_path = f\"data/{specimen_id}.jpg\"\n",
    "    try:\n",
    "        request.urlretrieve(image_url, file_path)\n",
    "        successful_downloads += 1\n",
    "    except Exception as e :\n",
    "        failed_downloads += 1\n",
    "        print(\"Specimen_id:\", specimen_id, \"Exception: \", e , \" at \", image_url, \"x\", x)\n",
    "# Print final download summary\n",
    "print(f\"\\nDownload Summary:\")\n",
    "print(f\"Successful downloads: {successful_downloads}\")\n",
    "print(f\"Failed downloads: {failed_downloads}\")\n"
   ]
  }
 ],
 "metadata": {
  "kernelspec": {
   "display_name": "Python 3 (ipykernel)",
   "language": "python",
   "name": "python3"
  },
  "language_info": {
   "codemirror_mode": {
    "name": "ipython",
    "version": 3
   },
   "file_extension": ".py",
   "mimetype": "text/x-python",
   "name": "python",
   "nbconvert_exporter": "python",
   "pygments_lexer": "ipython3",
   "version": "3.12.3"
  }
 },
 "nbformat": 4,
 "nbformat_minor": 5
}
